{
  "cells": [
    {
      "cell_type": "markdown",
      "metadata": {
        "id": "6k93M8-W7ITY"
      },
      "source": [
        "# Cálculo - Tarefa 01\n",
        "\n",
        "1. Marque quais desses métodos/algoritmos muito populares em ciência de dados são baseados no uso de derivada:\n",
        "\n",
        "    1. Método Mínimos Quadrados\n",
        "    2. Gradiente descendente\n",
        "    3. Newton Raphson\n",
        "    4. CART (Árvore de decisão)"
      ]
    },
    {
      "cell_type": "markdown",
      "source": [
        "> Os métodos/algoritmos que são baseados no uso de derivada são:\n",
        "\n",
        "\n",
        "1.   ***Método Mínimos Quadrados***: É uma técnica de otimização matemática que procura encontrar o melhor ajuste para um conjunto de dados tentando minimizar a soma dos quadrados das diferenças entre o valor estimado e os dados observados123.\n",
        "2.   ***Gradiente descendente***: É um algoritmo de otimização que realiza o ajuste de parâmetros de forma iterativa com o objetivo de encontrar o valor que minimiza a função de interesse. Ele começa em um determinado valor da função e “anda” em direção ao mínimo456.\n",
        "3.   ***Newton Raphson***: É um método numérico para encontrar aproximações sucessivas para os zeros (ou raízes) de uma função real. Ele usa a ideia de que uma função contínua pode ser aproximada por uma linha reta tangente próxima ao ponto de interesse78.\n",
        "\n",
        "CART (Árvore de decisão) não é baseado no uso de derivada: É um algoritmo baseado em árvore que funciona examinando várias maneiras de particionar ou dividir dados localmente em segmentos menores com base em diferentes valores e combinações de preditores. O resultado é uma árvore de decisão representada por uma série de divisões binárias que leva a nós terminais que podem ser descritos como um conjunto específico de regras910."
      ],
      "metadata": {
        "id": "77PMajls7eVl"
      }
    },
    {
      "cell_type": "code",
      "execution_count": null,
      "metadata": {
        "id": "8HKFV6e87ITb"
      },
      "outputs": [],
      "source": []
    },
    {
      "cell_type": "markdown",
      "metadata": {
        "id": "7F-OTWcS7ITc"
      },
      "source": [
        "2. Dada uma base de dados com uma variável resposta $y$ e um conjunto de variáveis explicativas. Considere uma estrutura de um modelo de regressão. Explique com suas palavras por que não é possível obter parâmetros que forneçam um erro quadrático médio (EQM) menor que o obtido com estimadores de mínimos quadrados."
      ]
    },
    {
      "cell_type": "markdown",
      "source": [
        "> Não é possível encontrar parâmetros que reduzam o erro quadrático médio (EQM) abaixo do obtido com os estimadores de mínimos quadrados em um modelo de regressão padrão, porque os mínimos quadrados já encontram os melhores parâmetros para ajustar o modelo aos dados. Qualquer tentativa de reduzir ainda mais o EQM significaria que o modelo original não é o mais apropriado.\n"
      ],
      "metadata": {
        "id": "J09o4ipQ9nCC"
      }
    },
    {
      "cell_type": "code",
      "execution_count": null,
      "metadata": {
        "id": "XrKiI9oE7ITd"
      },
      "outputs": [],
      "source": []
    }
  ],
  "metadata": {
    "kernelspec": {
      "display_name": "Python 3",
      "language": "python",
      "name": "python3"
    },
    "language_info": {
      "codemirror_mode": {
        "name": "ipython",
        "version": 3
      },
      "file_extension": ".py",
      "mimetype": "text/x-python",
      "name": "python",
      "nbconvert_exporter": "python",
      "pygments_lexer": "ipython3",
      "version": "3.8.5"
    },
    "toc": {
      "base_numbering": 1,
      "nav_menu": {},
      "number_sections": true,
      "sideBar": true,
      "skip_h1_title": true,
      "title_cell": "Índice",
      "title_sidebar": "Conteúdo",
      "toc_cell": false,
      "toc_position": {},
      "toc_section_display": true,
      "toc_window_display": false
    },
    "varInspector": {
      "cols": {
        "lenName": 16,
        "lenType": 16,
        "lenVar": 40
      },
      "kernels_config": {
        "python": {
          "delete_cmd_postfix": "",
          "delete_cmd_prefix": "del ",
          "library": "var_list.py",
          "varRefreshCmd": "print(var_dic_list())"
        },
        "r": {
          "delete_cmd_postfix": ") ",
          "delete_cmd_prefix": "rm(",
          "library": "var_list.r",
          "varRefreshCmd": "cat(var_dic_list()) "
        }
      },
      "types_to_exclude": [
        "module",
        "function",
        "builtin_function_or_method",
        "instance",
        "_Feature"
      ],
      "window_display": false
    },
    "colab": {
      "provenance": []
    }
  },
  "nbformat": 4,
  "nbformat_minor": 0
}