{
  "cells": [
    {
      "cell_type": "markdown",
      "metadata": {
        "id": "mot8U2rqA2Lj"
      },
      "source": [
        "# Cálculo - Tarefa 02\n",
        "\n",
        "## 1- Calcule de forma numérica a integral da função $x^3$ avaliada entre os pontos $1$ e $2$. Identifique o número de retângulos que você usou.  \n"
      ]
    },
    {
      "cell_type": "markdown",
      "source": [
        "> Para calcular a integral de forma numérica, podemos usar o método dos retângulos:"
      ],
      "metadata": {
        "id": "i7dGZ0b2B-zs"
      }
    },
    {
      "cell_type": "code",
      "execution_count": 1,
      "metadata": {
        "colab": {
          "base_uri": "https://localhost:8080/"
        },
        "id": "GjMunDDVA2Lo",
        "outputId": "695b0c2d-cf5b-4d5f-9fe8-c2b0c5a879ea"
      },
      "outputs": [
        {
          "output_type": "stream",
          "name": "stdout",
          "text": [
            "3.7465007499999974\n"
          ]
        }
      ],
      "source": [
        "import numpy as np\n",
        "\n",
        "# Definido a função\n",
        "def f(x):\n",
        "    return x**3\n",
        "\n",
        "# Definindo os limites de integração e o número de retângulos\n",
        "a = 1\n",
        "b = 2\n",
        "n = 1000  # número de retângulos\n",
        "\n",
        "# Calculando a largura de cada retângulo\n",
        "h = (b - a) / n\n",
        "\n",
        "# Calculando a integral usando o método dos retângulos\n",
        "integral = sum(f(a + i*h) for i in range(n)) * h\n",
        "\n",
        "print(integral)\n"
      ]
    },
    {
      "cell_type": "markdown",
      "source": [
        "## 2- Calcule essa área de forma analítica."
      ],
      "metadata": {
        "id": "6NBhtT9WBWpW"
      }
    },
    {
      "cell_type": "markdown",
      "source": [
        "Para calcular a integral de forma analítica, podemos usar o teorema fundamental do cálculo, que nos diz que a integral de uma função é a diferença entre os valores da sua primitiva nos pontos finais do intervalo de integração. A primitiva da função x/3 é x^4/4\n",
        "> Portanto, a integral analítica é:\n",
        "\n",
        "\n",
        "![image.png](data:image/png;base64,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)"
      ],
      "metadata": {
        "id": "kpU_xgj9Bf5U"
      }
    }
  ],
  "metadata": {
    "kernelspec": {
      "display_name": "Python 3",
      "language": "python",
      "name": "python3"
    },
    "language_info": {
      "codemirror_mode": {
        "name": "ipython",
        "version": 3
      },
      "file_extension": ".py",
      "mimetype": "text/x-python",
      "name": "python",
      "nbconvert_exporter": "python",
      "pygments_lexer": "ipython3",
      "version": "3.8.5"
    },
    "toc": {
      "base_numbering": 1,
      "nav_menu": {},
      "number_sections": true,
      "sideBar": true,
      "skip_h1_title": true,
      "title_cell": "Índice",
      "title_sidebar": "Conteúdo",
      "toc_cell": false,
      "toc_position": {},
      "toc_section_display": true,
      "toc_window_display": false
    },
    "varInspector": {
      "cols": {
        "lenName": 16,
        "lenType": 16,
        "lenVar": 40
      },
      "kernels_config": {
        "python": {
          "delete_cmd_postfix": "",
          "delete_cmd_prefix": "del ",
          "library": "var_list.py",
          "varRefreshCmd": "print(var_dic_list())"
        },
        "r": {
          "delete_cmd_postfix": ") ",
          "delete_cmd_prefix": "rm(",
          "library": "var_list.r",
          "varRefreshCmd": "cat(var_dic_list()) "
        }
      },
      "types_to_exclude": [
        "module",
        "function",
        "builtin_function_or_method",
        "instance",
        "_Feature"
      ],
      "window_display": false
    },
    "colab": {
      "provenance": []
    }
  },
  "nbformat": 4,
  "nbformat_minor": 0
}