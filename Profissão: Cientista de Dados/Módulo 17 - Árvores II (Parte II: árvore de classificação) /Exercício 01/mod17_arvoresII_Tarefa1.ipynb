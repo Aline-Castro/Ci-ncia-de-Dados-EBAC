{
  "cells": [
    {
      "cell_type": "markdown",
      "metadata": {
        "tags": [],
        "id": "zIe2VxJovQDv"
      },
      "source": [
        "# Árvores II - Tarefa I"
      ]
    },
    {
      "cell_type": "markdown",
      "metadata": {
        "id": "hOww0WLLvQDx"
      },
      "source": [
        "![image.png](attachment:f65bd82d-aa56-4cf2-8030-bb758771f332.png)  \n",
        "[fonte](https://momentum.org/programs-services/manage-your-money/savings-app/pxfuel-creative-commons-zero-cc0-iphone-smartphone-cell-phone-mobile-technology-texting/)\n",
        "\n",
        "\n"
      ]
    },
    {
      "cell_type": "markdown",
      "metadata": {
        "id": "VkbHQ0u_vQDy"
      },
      "source": [
        "# 1. Carregar a base\n",
        "\n",
        "Sua primeira atividade é carregar a base.\n",
        "\n",
        "Ela está disponível neste link:\n",
        "https://archive.ics.uci.edu/ml/datasets/human+activity+recognition+using+smartphones\n",
        "\n",
        "dados https://archive.ics.uci.edu/ml/machine-learning-databases/00240/  \n",
        "dataset.names https://archive.ics.uci.edu/ml/machine-learning-databases/00240/UCI%20HAR%20Dataset.names  \n",
        "UCI HAR Dataset.zip https://archive.ics.uci.edu/ml/machine-learning-databases/00240/UCI%20HAR%20Dataset.zip\n",
        "\n",
        "Você vai encontrar os seguintes arquivos:\n",
        "\n",
        "- **features.txt:** contém a lista com os nomes das variáveis\n",
        "- **features_info.txt:** contém a descrição das variáveis\n",
        "- **README.txt:** contém uma descrição do estudo e das bases\n",
        "- **activity_labels:** contém o código da atividade (inteiro entre 1 e 6) e a descrição\n",
        "- **subject_train.txt:** uma lista indicando que registro pertence a que indivíduo na base de treino\n",
        "- **X_train.txt:** as *features* (ou variáveis explicativas) da base de testes. Cada linha representa um registro das informações de um indivíduo em um intervalo de tempo de aproximadamente 1/0.3 segundo. As medidas estão em ordem temporal dentro do estudo, e o indivíduo que originou a medida está identificado na base subject_train.txt.\n",
        "- **y_train.txt:** Possui o mesmo número de linhas que X_test. Contém um número de 1 a 6 indicando a atividade que estava sendo realizada por aquele registro na base de treino.\n",
        "- **subject_test.txt:** uma lista indicando que registro pertence a que indivíduo na base de teste\n",
        "- **X_test.txt:** as *features* (ou variáveis explicativas) da base de testes. Cada linha representa um registro das informações de um indivíduo em um intervalo de tempo de aproximadamente 1/0.3 segundo. As medidas estão em ordem temporal dentro do estudo, e o indivíduo que originou a medida está identificado na base subject_test.txt.\n",
        "- **y_test.txt:** Possui o mesmo número de linhas que X_train. Contém um número de 1 a 6 indicando a atividade que estava sendo realizada por aquele registro na base de teste.\n",
        "\n",
        "\n",
        "\n",
        "**OBS:** As bases já estão divididas em treino e teste, de modo que não vamos precisar da função ```train_test_split```."
      ]
    },
    {
      "cell_type": "code",
      "execution_count": 91,
      "metadata": {
        "id": "NrVfyC5uvQDy"
      },
      "outputs": [],
      "source": [
        "# IMPORTANDO AS BIBLIOTECAS E PACOTES NECESSÁRIOS\n",
        "import pandas as pd\n",
        "from sklearn.tree import DecisionTreeClassifier\n",
        "import numpy as np\n",
        "import matplotlib.pyplot as plt\n",
        "from sklearn.tree import DecisionTreeClassifier\n",
        "from sklearn.metrics import accuracy_score\n"
      ]
    },
    {
      "cell_type": "markdown",
      "source": [
        "## 1.1  Faça o download dos arquivos."
      ],
      "metadata": {
        "id": "0fnUSTTYyL6D"
      }
    },
    {
      "cell_type": "markdown",
      "source": [
        "## 1.2  Carregue a base features.txt em uma Series (por exemplo usando o comando pd.read_csv()."
      ],
      "metadata": {
        "id": "lRlSAI6aydKm"
      }
    },
    {
      "cell_type": "code",
      "source": [
        "# Carregando os nomes das features\n",
        "features_series = pd.read_csv('./features.txt', sep='\\s+', header=None, usecols=[1], squeeze=True)\n"
      ],
      "metadata": {
        "colab": {
          "base_uri": "https://localhost:8080/"
        },
        "id": "mHyDH-S8bumd",
        "outputId": "0a8a143c-6a77-483a-ed6e-fbd3f8e33538"
      },
      "execution_count": 92,
      "outputs": [
        {
          "output_type": "stream",
          "name": "stderr",
          "text": [
            "<ipython-input-92-9e4f2a1d802c>:2: FutureWarning: The squeeze argument has been deprecated and will be removed in a future version. Append .squeeze(\"columns\") to the call to squeeze.\n",
            "\n",
            "\n",
            "  features_series = pd.read_csv('./features.txt', sep='\\s+', header=None, usecols=[1], squeeze=True)\n"
          ]
        }
      ]
    },
    {
      "cell_type": "markdown",
      "source": [
        "## 1.3. Carregue a base subject_train.txt em uma *Series*\n"
      ],
      "metadata": {
        "id": "ByNfwgiVzpo8"
      }
    },
    {
      "cell_type": "code",
      "source": [
        "# Carregando a base subject_train.txt em uma Series\n",
        "subject_train_series = pd.read_csv('./subject_train.txt', sep='\\s+', header=None, squeeze=True)"
      ],
      "metadata": {
        "colab": {
          "base_uri": "https://localhost:8080/"
        },
        "id": "FtI3UVMWbxvj",
        "outputId": "094067c5-4ec2-4186-fafc-e9e61cb1ec6c"
      },
      "execution_count": 93,
      "outputs": [
        {
          "output_type": "stream",
          "name": "stderr",
          "text": [
            "<ipython-input-93-f0653f7cd073>:2: FutureWarning: The squeeze argument has been deprecated and will be removed in a future version. Append .squeeze(\"columns\") to the call to squeeze.\n",
            "\n",
            "\n",
            "  subject_train_series = pd.read_csv('./subject_train.txt', sep='\\s+', header=None, squeeze=True)\n"
          ]
        }
      ]
    },
    {
      "cell_type": "markdown",
      "source": [
        "## 1.4. Carregue a base X_train.txt\n",
        "\n",
        "### 1.4.1. Faça com que as colunas deste *dataframe* tenham os nomes indicados em ```features.txt```\n",
        "\n"
      ],
      "metadata": {
        "id": "F4aRtlpV-DCI"
      }
    },
    {
      "cell_type": "code",
      "source": [
        "# Carregando a base X_train.txt e renomeando as colunas com os nomes de features\n",
        "X_train = pd.read_csv('./X_train.txt', header=None, sep='\\s+')\n",
        "X_train.columns = features_series  # Atribuindo nomes às colunas\n"
      ],
      "metadata": {
        "id": "JkiTK9gYb4Id"
      },
      "execution_count": 94,
      "outputs": []
    },
    {
      "cell_type": "markdown",
      "source": [
        "### 1.4.2. Sem alterar a ordem dos *dataframes*, coloque o indicador do indivíduo lido em ```subject_train.txt``` como uma variável a mais neste *dataframe***\n"
      ],
      "metadata": {
        "id": "O9bi7t0LfMFX"
      }
    },
    {
      "cell_type": "code",
      "source": [
        "# Adicionando o identificador do indivíduo como uma coluna\n",
        "X_train['subject'] = subject_train_series\n",
        "\n"
      ],
      "metadata": {
        "id": "pZtDTv1vfRmx"
      },
      "execution_count": 95,
      "outputs": []
    },
    {
      "cell_type": "markdown",
      "source": [
        "### 1.4.3. Faça com que este *dataframe* tenha um índice duplo, composto pela ordem dos dados e pelo identificador do indivíduo"
      ],
      "metadata": {
        "id": "-YcNyk-GfLyn"
      }
    },
    {
      "cell_type": "code",
      "source": [
        "# Definindo um índice duplo composto pela ordem dos dados e pelo identificador do indivíduo\n",
        "X_train.set_index(['subject', X_train.index], inplace=True)\n",
        "X_train.index.names = ['subject', 'order']"
      ],
      "metadata": {
        "id": "PZrPUBRffUq5"
      },
      "execution_count": 96,
      "outputs": []
    },
    {
      "cell_type": "markdown",
      "source": [
        "## 1.5. Com a mesma lógica, carregue a base X_test\n",
        "### 1.5.1. Certifique-se de que tenha os nomes lidos em ```features.txt```\n",
        "\n"
      ],
      "metadata": {
        "id": "wKzdDMZe-Qpf"
      }
    },
    {
      "cell_type": "code",
      "source": [
        "# Carregando a base X_test, renomeando as colunas com os nomes de features\n",
        "X_test = pd.read_csv('/content/X_test.txt', header=None, sep='\\s+')\n",
        "X_test.columns = features_series\n"
      ],
      "metadata": {
        "id": "C5D6eObVb6h0"
      },
      "execution_count": 97,
      "outputs": []
    },
    {
      "cell_type": "markdown",
      "source": [
        "### 1.5.2. Coloque o identificador do sujeito lido em ```subject_test.txt```\n"
      ],
      "metadata": {
        "id": "26fhFgyJipkk"
      }
    },
    {
      "cell_type": "code",
      "source": [
        " # Adicionando o identificador do sujeito\n",
        "subject_test_series = pd.read_csv('/content/subject_test.txt', header=None, squeeze=True)\n",
        "X_test['subject'] = subject_test_series"
      ],
      "metadata": {
        "colab": {
          "base_uri": "https://localhost:8080/"
        },
        "id": "IJ5h9JCPiwo7",
        "outputId": "9d0590a1-4ded-4156-e239-f003095f2a2f"
      },
      "execution_count": 99,
      "outputs": [
        {
          "output_type": "stream",
          "name": "stderr",
          "text": [
            "<ipython-input-99-5607410f4d8a>:2: FutureWarning: The squeeze argument has been deprecated and will be removed in a future version. Append .squeeze(\"columns\") to the call to squeeze.\n",
            "\n",
            "\n",
            "  subject_test_series = pd.read_csv('/content/subject_test.txt', header=None, squeeze=True)\n"
          ]
        }
      ]
    },
    {
      "cell_type": "markdown",
      "source": [
        "### 1.5.3. Defina um índice duplo composto pela ordem do registro e o identificador do registro"
      ],
      "metadata": {
        "id": "Kx3bE3J8ipG8"
      }
    },
    {
      "cell_type": "code",
      "source": [
        "# Definindo um índice duplo composto pela ordem do registro e o identificador do registro\n",
        "X_test.set_index(['subject', X_test.index], inplace=True)\n",
        "X_test.index.names = ['subject', 'order']"
      ],
      "metadata": {
        "id": "toK1djUji2F8"
      },
      "execution_count": 100,
      "outputs": []
    },
    {
      "cell_type": "markdown",
      "source": [
        "## 1.6. Salve as bases em arquivos CSV para facilitar a leitura deles na terefa 2 deste módulo\n"
      ],
      "metadata": {
        "id": "FoGOtdBL-aYX"
      }
    },
    {
      "cell_type": "code",
      "source": [
        "# Salvando a versão final em um arquivo CSV\n",
        "X_train.to_csv('X_train_processed.csv')\n",
        "X_test.to_csv('X_test_processed.csv')"
      ],
      "metadata": {
        "id": "5jtdZAWqb7B8"
      },
      "execution_count": 101,
      "outputs": []
    },
    {
      "cell_type": "markdown",
      "source": [
        "## 1.7. Considere que esta base é maior que a da aula, tanto em linhas quanto em colunas. Selecione apenas as três primeiras colunas da base ('tBodyAcc-mean()-X', 'tBodyAcc-mean()-Y' e 'tBodyAcc-mean()-Z'), para efeitos desse exercício."
      ],
      "metadata": {
        "id": "4XJ4e9tI-dsH"
      }
    },
    {
      "cell_type": "code",
      "source": [
        "# Selecionando as três primeiras colunas da base X_train\n",
        "selected_columns = ['tBodyAcc-mean()-X', 'tBodyAcc-mean()-Y', 'tBodyAcc-mean()-Z']\n",
        "X_train = X_train[selected_columns]\n"
      ],
      "metadata": {
        "id": "KxyscXyMb7f8"
      },
      "execution_count": 102,
      "outputs": []
    },
    {
      "cell_type": "code",
      "source": [
        "# Salve a versão final em um arquivo CSV\n",
        "X_train.to_csv('X_train_processed_columns.csv')"
      ],
      "metadata": {
        "id": "ihyrv5pZe7OJ"
      },
      "execution_count": 103,
      "outputs": []
    },
    {
      "cell_type": "markdown",
      "metadata": {
        "id": "PFGUDzj3vQD0"
      },
      "source": [
        "#2. Ajustar uma árvore de decisão\n"
      ]
    },
    {
      "cell_type": "markdown",
      "source": [
        "\n",
        "## 2.1. ajuste uma árvore de decisão com número mínimo de observações por folha = 20. Certifique-se de que você esteja utilizando apenas as 3 variáveis indicadas no exercício anterior.\n"
      ],
      "metadata": {
        "id": "B4SzT2ka_cDG"
      }
    },
    {
      "cell_type": "code",
      "source": [
        "# Ajustando uma árvore de decisão com número mínimo de observações por folha = 20 e as 3 variáveis indicadas\n",
        "X_train_3_variables = X_train[['tBodyAcc-mean()-X', 'tBodyAcc-mean()-Y', 'tBodyAcc-mean()-Z']]\n",
        "y_train = pd.read_csv('/content/y_train.txt', header=None, squeeze=True)\n",
        "\n",
        "# Ajustando a árvore de decisão\n",
        "tree = DecisionTreeClassifier(min_samples_leaf=20, random_state=42)\n",
        "tree.fit(X_train_3_variables, y_train)"
      ],
      "metadata": {
        "colab": {
          "base_uri": "https://localhost:8080/",
          "height": 164
        },
        "id": "HApGuPozg1fv",
        "outputId": "2cd43118-3094-401c-f000-5d864c742e88"
      },
      "execution_count": 104,
      "outputs": [
        {
          "output_type": "stream",
          "name": "stderr",
          "text": [
            "<ipython-input-104-351c2fddf90a>:3: FutureWarning: The squeeze argument has been deprecated and will be removed in a future version. Append .squeeze(\"columns\") to the call to squeeze.\n",
            "\n",
            "\n",
            "  y_train = pd.read_csv('/content/y_train.txt', header=None, squeeze=True)\n"
          ]
        },
        {
          "output_type": "execute_result",
          "data": {
            "text/plain": [
              "DecisionTreeClassifier(min_samples_leaf=20, random_state=42)"
            ],
            "text/html": [
              "<style>#sk-container-id-2 {color: black;background-color: white;}#sk-container-id-2 pre{padding: 0;}#sk-container-id-2 div.sk-toggleable {background-color: white;}#sk-container-id-2 label.sk-toggleable__label {cursor: pointer;display: block;width: 100%;margin-bottom: 0;padding: 0.3em;box-sizing: border-box;text-align: center;}#sk-container-id-2 label.sk-toggleable__label-arrow:before {content: \"▸\";float: left;margin-right: 0.25em;color: #696969;}#sk-container-id-2 label.sk-toggleable__label-arrow:hover:before {color: black;}#sk-container-id-2 div.sk-estimator:hover label.sk-toggleable__label-arrow:before {color: black;}#sk-container-id-2 div.sk-toggleable__content {max-height: 0;max-width: 0;overflow: hidden;text-align: left;background-color: #f0f8ff;}#sk-container-id-2 div.sk-toggleable__content pre {margin: 0.2em;color: black;border-radius: 0.25em;background-color: #f0f8ff;}#sk-container-id-2 input.sk-toggleable__control:checked~div.sk-toggleable__content {max-height: 200px;max-width: 100%;overflow: auto;}#sk-container-id-2 input.sk-toggleable__control:checked~label.sk-toggleable__label-arrow:before {content: \"▾\";}#sk-container-id-2 div.sk-estimator input.sk-toggleable__control:checked~label.sk-toggleable__label {background-color: #d4ebff;}#sk-container-id-2 div.sk-label input.sk-toggleable__control:checked~label.sk-toggleable__label {background-color: #d4ebff;}#sk-container-id-2 input.sk-hidden--visually {border: 0;clip: rect(1px 1px 1px 1px);clip: rect(1px, 1px, 1px, 1px);height: 1px;margin: -1px;overflow: hidden;padding: 0;position: absolute;width: 1px;}#sk-container-id-2 div.sk-estimator {font-family: monospace;background-color: #f0f8ff;border: 1px dotted black;border-radius: 0.25em;box-sizing: border-box;margin-bottom: 0.5em;}#sk-container-id-2 div.sk-estimator:hover {background-color: #d4ebff;}#sk-container-id-2 div.sk-parallel-item::after {content: \"\";width: 100%;border-bottom: 1px solid gray;flex-grow: 1;}#sk-container-id-2 div.sk-label:hover label.sk-toggleable__label {background-color: #d4ebff;}#sk-container-id-2 div.sk-serial::before {content: \"\";position: absolute;border-left: 1px solid gray;box-sizing: border-box;top: 0;bottom: 0;left: 50%;z-index: 0;}#sk-container-id-2 div.sk-serial {display: flex;flex-direction: column;align-items: center;background-color: white;padding-right: 0.2em;padding-left: 0.2em;position: relative;}#sk-container-id-2 div.sk-item {position: relative;z-index: 1;}#sk-container-id-2 div.sk-parallel {display: flex;align-items: stretch;justify-content: center;background-color: white;position: relative;}#sk-container-id-2 div.sk-item::before, #sk-container-id-2 div.sk-parallel-item::before {content: \"\";position: absolute;border-left: 1px solid gray;box-sizing: border-box;top: 0;bottom: 0;left: 50%;z-index: -1;}#sk-container-id-2 div.sk-parallel-item {display: flex;flex-direction: column;z-index: 1;position: relative;background-color: white;}#sk-container-id-2 div.sk-parallel-item:first-child::after {align-self: flex-end;width: 50%;}#sk-container-id-2 div.sk-parallel-item:last-child::after {align-self: flex-start;width: 50%;}#sk-container-id-2 div.sk-parallel-item:only-child::after {width: 0;}#sk-container-id-2 div.sk-dashed-wrapped {border: 1px dashed gray;margin: 0 0.4em 0.5em 0.4em;box-sizing: border-box;padding-bottom: 0.4em;background-color: white;}#sk-container-id-2 div.sk-label label {font-family: monospace;font-weight: bold;display: inline-block;line-height: 1.2em;}#sk-container-id-2 div.sk-label-container {text-align: center;}#sk-container-id-2 div.sk-container {/* jupyter's `normalize.less` sets `[hidden] { display: none; }` but bootstrap.min.css set `[hidden] { display: none !important; }` so we also need the `!important` here to be able to override the default hidden behavior on the sphinx rendered scikit-learn.org. See: https://github.com/scikit-learn/scikit-learn/issues/21755 */display: inline-block !important;position: relative;}#sk-container-id-2 div.sk-text-repr-fallback {display: none;}</style><div id=\"sk-container-id-2\" class=\"sk-top-container\"><div class=\"sk-text-repr-fallback\"><pre>DecisionTreeClassifier(min_samples_leaf=20, random_state=42)</pre><b>In a Jupyter environment, please rerun this cell to show the HTML representation or trust the notebook. <br />On GitHub, the HTML representation is unable to render, please try loading this page with nbviewer.org.</b></div><div class=\"sk-container\" hidden><div class=\"sk-item\"><div class=\"sk-estimator sk-toggleable\"><input class=\"sk-toggleable__control sk-hidden--visually\" id=\"sk-estimator-id-2\" type=\"checkbox\" checked><label for=\"sk-estimator-id-2\" class=\"sk-toggleable__label sk-toggleable__label-arrow\">DecisionTreeClassifier</label><div class=\"sk-toggleable__content\"><pre>DecisionTreeClassifier(min_samples_leaf=20, random_state=42)</pre></div></div></div></div></div>"
            ]
          },
          "metadata": {},
          "execution_count": 104
        }
      ]
    },
    {
      "cell_type": "markdown",
      "source": [
        "## 2.2. Calcule os ccp_alphas. Como feito em aula, certifique-se de que todos os valores são positivos, e selecione apenas valores únicos.\n"
      ],
      "metadata": {
        "id": "DniojRtu_gSW"
      }
    },
    {
      "cell_type": "code",
      "source": [
        "# Calculando os ccp_alphas\n",
        "ccp_alphas = tree.cost_complexity_pruning_path(X_train_3_variables, y_train)['ccp_alphas']\n",
        "\n",
        "# Certificando que todos os valores são positivos\n",
        "ccp_alphas = ccp_alphas[ccp_alphas > 0]\n",
        "\n",
        "# Selecionando apenas valores únicos\n",
        "unique_ccp_alphas = np.unique(ccp_alphas)"
      ],
      "metadata": {
        "id": "nQ-2F3Ljg_8F"
      },
      "execution_count": 105,
      "outputs": []
    },
    {
      "cell_type": "markdown",
      "source": [
        "## 2.3. Considere que vamos fazer uma árvore para cada valor de ```ccp_alpha```. Para ter um pouco mais de velocidade, crie uma coleção de dados com os ```ccp_alphas```, considerando apenas 1 a cada 5 valores. Dica: utilize o slicing do tipo ```array[::5]``` para isto. Caso se sinta seguro, fique à vontade para utilizar mais valores de ```ccp_alpha```."
      ],
      "metadata": {
        "id": "gvrPKB0o_lme"
      }
    },
    {
      "cell_type": "code",
      "source": [
        "# Criando uma coleção de dados com os ccp_alphas considerando apenas 1 a cada 5 valores\n",
        "selected_ccp_alphas = unique_ccp_alphas[::5]\n",
        "\n",
        "# Exibindo os valores selecionados\n",
        "print(\"Valores selecionados de ccp_alpha:\", selected_ccp_alphas)\n"
      ],
      "metadata": {
        "colab": {
          "base_uri": "https://localhost:8080/"
        },
        "id": "o32CeChZgd_n",
        "outputId": "bd7d283d-af23-4c80-cea5-bf5501dcd180"
      },
      "execution_count": 106,
      "outputs": [
        {
          "output_type": "stream",
          "name": "stdout",
          "text": [
            "Valores selecionados de ccp_alpha: [6.96674540e-06 4.63397246e-05 6.73768888e-05 8.28222484e-05\n",
            " 1.02953015e-04 1.20580361e-04 1.41963138e-04 1.50482754e-04\n",
            " 1.64239147e-04 1.78985873e-04 1.89796602e-04 2.03119333e-04\n",
            " 2.05888258e-04 2.11960464e-04 2.26826797e-04 2.39444770e-04\n",
            " 2.47932477e-04 2.52885177e-04 2.62495937e-04 2.73408734e-04\n",
            " 2.83037295e-04 2.87980319e-04 3.13171720e-04 3.26787621e-04\n",
            " 3.51668945e-04 3.73564446e-04 3.99220300e-04 4.29862753e-04\n",
            " 4.51528412e-04 4.63079099e-04 4.87208882e-04 5.11794978e-04\n",
            " 5.25732429e-04 5.56286552e-04 6.37883381e-04 7.02050790e-04\n",
            " 7.53735819e-04 8.64950391e-04 9.29376560e-04 1.13240843e-03\n",
            " 1.24197638e-03 1.65230695e-03 2.18765587e-03 2.66788979e-03\n",
            " 3.13001880e-03 4.73006126e-03 1.05395082e-02]\n"
          ]
        }
      ]
    },
    {
      "cell_type": "markdown",
      "metadata": {
        "id": "2g403eM_vQD1"
      },
      "source": [
        "# 3. Desempenho da árvore por ccp_alpha\n"
      ]
    },
    {
      "cell_type": "markdown",
      "source": [
        "\n",
        "## 3.1. Rode uma árvore para cada ```ccp_alpha```, salvando cada árvore em uma lista\n"
      ],
      "metadata": {
        "id": "gA7uwVjr_219"
      }
    },
    {
      "cell_type": "code",
      "source": [
        "%%time\n",
        "# Rodando uma árvore para cada ccp_alpha, salvando cada árvore em uma lista\n",
        "trees = []\n",
        "for ccp_alpha in selected_ccp_alphas:\n",
        "    tree = DecisionTreeClassifier(min_samples_leaf=20, ccp_alpha=ccp_alpha, random_state=42)\n",
        "    tree.fit(X_train_3_variables, y_train)\n",
        "    trees.append(tree)"
      ],
      "metadata": {
        "colab": {
          "base_uri": "https://localhost:8080/"
        },
        "id": "qEsoUmHqiZm1",
        "outputId": "41137b6c-e2db-45d1-c7e1-8d265da6d14f"
      },
      "execution_count": 107,
      "outputs": [
        {
          "output_type": "stream",
          "name": "stdout",
          "text": [
            "CPU times: user 1.48 s, sys: 0 ns, total: 1.48 s\n",
            "Wall time: 1.49 s\n"
          ]
        }
      ]
    },
    {
      "cell_type": "markdown",
      "source": [
        "## 3.2. Calcule a acurácia de cada árvore na base de treinamento e de teste\n"
      ],
      "metadata": {
        "id": "bfp7s6MIABwF"
      }
    },
    {
      "cell_type": "code",
      "execution_count": 108,
      "metadata": {
        "colab": {
          "base_uri": "https://localhost:8080/"
        },
        "id": "9O_EyzMKvQD1",
        "outputId": "63dec8ec-6c2e-4d0e-b710-feba250430c0"
      },
      "outputs": [
        {
          "output_type": "stream",
          "name": "stderr",
          "text": [
            "<ipython-input-108-80ab4bfc5492>:5: FutureWarning: The squeeze argument has been deprecated and will be removed in a future version. Append .squeeze(\"columns\") to the call to squeeze.\n",
            "\n",
            "\n",
            "  y_test = pd.read_csv('/content/y_test.txt', header=None, squeeze=True)\n"
          ]
        }
      ],
      "source": [
        "# Calculando a acurácia de cada árvore na base de treinamento e de teste\n",
        "accuracies_train = []\n",
        "accuracies_test = []\n",
        "X_test_3_variables = X_test[['tBodyAcc-mean()-X', 'tBodyAcc-mean()-Y', 'tBodyAcc-mean()-Z']]\n",
        "y_test = pd.read_csv('/content/y_test.txt', header=None, squeeze=True)"
      ]
    },
    {
      "cell_type": "code",
      "source": [
        "for tree in trees:\n",
        "    y_train_pred = tree.predict(X_train_3_variables)\n",
        "    y_test_pred = tree.predict(X_test_3_variables)\n",
        "    accuracy_train = accuracy_score(y_train, y_train_pred)\n",
        "    accuracy_test = accuracy_score(y_test, y_test_pred)\n",
        "    accuracies_train.append(accuracy_train)\n",
        "    accuracies_test.append(accuracy_test)\n"
      ],
      "metadata": {
        "id": "Rg6JgHCBjdl0"
      },
      "execution_count": 109,
      "outputs": []
    },
    {
      "cell_type": "markdown",
      "source": [
        "## 3.3. Monte um gráfico da acurácia em função do ```ccp_alpha``` na base de validação e na base de teste\n"
      ],
      "metadata": {
        "id": "y_fMPi-bAFRV"
      }
    },
    {
      "cell_type": "code",
      "source": [
        "# Gráfico da acurácia em função do ccp_alpha na base de validação e na base de teste\n",
        "plt.figure(figsize=(10, 5))\n",
        "plt.plot(selected_ccp_alphas, accuracies_train, marker='o', label='Treinamento', linestyle='-')\n",
        "plt.plot(selected_ccp_alphas, accuracies_test, marker='o', label='Teste', linestyle='-')\n",
        "plt.xlabel('ccp_alpha')\n",
        "plt.ylabel('Acurácia')\n",
        "plt.title('Acurácia vs. ccp_alpha')\n",
        "plt.legend()\n",
        "plt.grid(True)\n",
        "plt.show()"
      ],
      "metadata": {
        "colab": {
          "base_uri": "https://localhost:8080/",
          "height": 488
        },
        "id": "5Pdi9h_3AEE-",
        "outputId": "faadc73e-5175-456c-8af7-0f2431f28979"
      },
      "execution_count": 111,
      "outputs": [
        {
          "output_type": "display_data",
          "data": {
            "text/plain": [
              "<Figure size 1000x500 with 1 Axes>"
            ],
            "image/png": "[encoded data removed]"
          },
          "metadata": {}
        }
      ]
    },
    {
      "cell_type": "markdown",
      "source": [
        "## 3.4. Selecione a melhor árvore como sendo aquela que possui melhor acurácia na base de teste\n"
      ],
      "metadata": {
        "id": "qv06hlt8AHPd"
      }
    },
    {
      "cell_type": "code",
      "source": [
        "# Selecionando a melhor árvore como sendo aquela que possui melhor acurácia na base de teste\n",
        "best_tree_index = accuracies_test.index(max(accuracies_test))\n",
        "best_tree = trees[best_tree_index]\n",
        "best_accuracy = accuracies_test[best_tree_index]"
      ],
      "metadata": {
        "id": "XK5ZGOwEjruE"
      },
      "execution_count": 112,
      "outputs": []
    },
    {
      "cell_type": "markdown",
      "source": [
        "## 3.5. Qual a melhor acurácia que se pode obter com estas três variáveis?\n"
      ],
      "metadata": {
        "id": "iMRQdLFMAIw2"
      }
    },
    {
      "cell_type": "code",
      "source": [
        "# Melhor acurácia que se pode obter com estas três variáveis\n",
        "print(f\"A melhor acurácia na base de teste: {best_accuracy} ou {best_accuracy*100:.2f}%\")"
      ],
      "metadata": {
        "colab": {
          "base_uri": "https://localhost:8080/"
        },
        "id": "Sf07a2IiAN6H",
        "outputId": "1e9a22d6-0fb3-449e-c3a6-1431fe2ed931"
      },
      "execution_count": 118,
      "outputs": [
        {
          "output_type": "stream",
          "name": "stdout",
          "text": [
            "A melhor acurácia na base de teste: 0.44859178825924667 ou 44.86%\n"
          ]
        }
      ]
    },
    {
      "cell_type": "markdown",
      "source": [
        "\n",
        "**Dica:** utilize a estrutura do notebook apresentado em aula.  \n",
        "**Dica 2:** meça o tempo com a função mágica ```%%time``` na primeira linha da célula.  \n",
        "**Sugestão:** caso fique confortável com o tempo de execução, faça a busca pelo melhor ```ccp_alpha``` com mais iterações.  \n",
        "**Sugestão 2:** caso fique confortável com o tempo de execução, tente inserir uma ou mais variáveis adicionais e veja se consegue aumentar a acurácia."
      ],
      "metadata": {
        "id": "wvcMxgePAKUm"
      }
    }
  ],
  "metadata": {
    "kernelspec": {
      "display_name": "Python 3",
      "language": "python",
      "name": "python3"
    },
    "language_info": {
      "codemirror_mode": {
        "name": "ipython",
        "version": 3
      },
      "file_extension": ".py",
      "mimetype": "text/x-python",
      "name": "python",
      "nbconvert_exporter": "python",
      "pygments_lexer": "ipython3",
      "version": "3.11.4"
    },
    "colab": {
      "provenance": []
    }
  },
  "nbformat": 4,
  "nbformat_minor": 0
}