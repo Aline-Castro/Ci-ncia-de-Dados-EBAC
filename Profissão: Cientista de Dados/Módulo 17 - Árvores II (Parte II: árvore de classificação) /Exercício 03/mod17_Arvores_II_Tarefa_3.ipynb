{
  "cells": [
    {
      "cell_type": "markdown",
      "metadata": {
        "id": "T8gq-VuJRgg2"
      },
      "source": [
        "![image.png](attachment:image.png)"
      ]
    },
    {
      "cell_type": "markdown",
      "metadata": {
        "id": "HRUeSXEJRgg-"
      },
      "source": [
        "# Árvores II - Tarefa 3"
      ]
    },
    {
      "cell_type": "markdown",
      "metadata": {
        "id": "AczYVF8BRgg-"
      },
      "source": [
        "### 1. Carregar as bases\n",
        "\n",
        "Vamos utilizar nesta tarefa as bases de reconhecimento de atividade humana através do celular. Carregue novamente as bases salvas na tarefa I."
      ]
    },
    {
      "cell_type": "code",
      "execution_count": 20,
      "metadata": {
        "id": "ZVyoeYPvRgg-"
      },
      "outputs": [],
      "source": [
        "import numpy             as np\n",
        "import pandas            as pd\n",
        "import matplotlib.pyplot as plt\n",
        "import seaborn           as sns\n",
        "from sklearn.model_selection import train_test_split\n",
        "from sklearn.tree            import DecisionTreeClassifier\n",
        "from sklearn.model_selection import GridSearchCV\n",
        "from sklearn.metrics         import ConfusionMatrixDisplay\n",
        "from sklearn.metrics         import confusion_matrix\n",
        "from sklearn.model_selection import KFold\n",
        "from sklearn.metrics import accuracy_score\n",
        "import time\n",
        "\n",
        "%matplotlib inline"
      ]
    },
    {
      "cell_type": "code",
      "execution_count": 21,
      "metadata": {
        "id": "JKVK60tfRgg_"
      },
      "outputs": [],
      "source": [
        "# Carregando as bases lidas na tarefa anterior com seus respectivos índices\n",
        "\n",
        "# Carregando os dados de treinamento\n",
        "X_train = pd.read_csv('/content/X_train.csv', index_col=['Unnamed: 0', 'subject_train'])\n",
        "y_train = (pd.read_csv('/content/y_train.txt', header=None).squeeze('columns'))\n",
        "\n",
        "# Carregando os dados de teste\n",
        "X_test = pd.read_csv('/content/X_test.csv', index_col=['Unnamed: 0', 'subject_test'])\n",
        "y_test = (pd.read_csv('/content/y_test.txt', header=None).squeeze('columns'))"
      ]
    },
    {
      "cell_type": "markdown",
      "metadata": {
        "id": "5YyCKzxURgg_"
      },
      "source": [
        "### 2. Calcule os ```ccp_alphas```.\n",
        "\n",
        "Vamos seguir uma lógica bem em linha com o que já estamso acostumados, com as seguintes orientações:\n",
        "\n",
        "- Utilizar treinamento e teste conforme já vieram definidos originalmente\n",
        "- Por pragmatismo, utilizar ```min_samples_leaf=20```\n",
        "- Utilize as mesmas \"3 melhores variáveis\" identificadas no exercício anterior."
      ]
    },
    {
      "cell_type": "code",
      "execution_count": 22,
      "metadata": {
        "colab": {
          "base_uri": "https://localhost:8080/"
        },
        "id": "2_SagVsORgg_",
        "outputId": "2459fba0-5ebe-478c-8781-73c018f1a348"
      },
      "outputs": [
        {
          "output_type": "stream",
          "name": "stdout",
          "text": [
            "[0.00000000e+00 6.43815742e-06 6.59906426e-06 8.26772494e-06\n",
            " 9.85633407e-06 1.04385454e-05 1.07972583e-05 1.18205607e-05\n",
            " 1.25492253e-05 2.00538489e-05 2.04026115e-05 2.06086985e-05\n",
            " 2.30817423e-05 2.94533941e-05 3.34812087e-05 3.68012474e-05\n",
            " 4.68847891e-05 4.71040159e-05 5.07449569e-05 5.87197700e-05\n",
            " 5.91842553e-05 5.97128157e-05 6.36454967e-05 6.89360965e-05\n",
            " 6.93966379e-05 7.54278366e-05 7.65465945e-05 7.96357451e-05\n",
            " 8.02457230e-05 8.09934895e-05 9.28372800e-05 9.74328796e-05\n",
            " 1.03837119e-04 1.24913948e-04 1.27435359e-04 1.33764496e-04\n",
            " 1.35961757e-04 1.54565239e-04 1.58686979e-04 1.77825747e-04\n",
            " 1.98255304e-04 2.05841756e-04 2.12773371e-04 2.16391334e-04\n",
            " 2.38937546e-04 2.45372701e-04 2.65773702e-04 2.79807244e-04\n",
            " 2.97474754e-04 3.01505259e-04 3.02829336e-04 3.16912071e-04\n",
            " 3.16965951e-04 3.25678178e-04 3.27800845e-04 3.33730300e-04\n",
            " 3.42285571e-04 3.52767845e-04 3.76274354e-04 3.78579953e-04\n",
            " 4.32101227e-04 4.32428033e-04 4.37044615e-04 4.48996367e-04\n",
            " 4.97759539e-04 5.06797338e-04 5.20212619e-04 5.50024421e-04\n",
            " 5.59938339e-04 5.83304293e-04 6.05227469e-04 6.79903863e-04\n",
            " 6.94781964e-04 7.21330028e-04 7.68006835e-04 7.85957745e-04\n",
            " 8.79456090e-04 9.17100361e-04 9.31108830e-04 1.03208564e-03\n",
            " 1.09396437e-03 1.12049308e-03 1.12116523e-03 1.17593716e-03\n",
            " 1.19036437e-03 1.28759635e-03 1.34967421e-03 1.46211448e-03\n",
            " 1.52178632e-03 1.56461314e-03 2.03069708e-03 2.03423165e-03\n",
            " 2.12973114e-03 2.18481278e-03 2.23787246e-03 2.47779467e-03\n",
            " 2.55110680e-03 3.17825327e-03 3.76250065e-03 4.80010833e-03\n",
            " 5.44646874e-03 7.08292405e-03 7.22545496e-03 9.80404445e-03\n",
            " 4.42597014e-02 6.33689986e-02 1.09227591e-01 1.67257720e-01\n",
            " 1.86138242e-01]\n",
            "CPU times: user 42 ms, sys: 0 ns, total: 42 ms\n",
            "Wall time: 41.9 ms\n"
          ]
        }
      ],
      "source": [
        "%%time\n",
        "'''As três variáveis mais importantes são:\n",
        "53 tGravityAcc-min()-X\n",
        "390 fBodyAccJerk-bandsEnergy()-1,16\n",
        "42 tGravityAcc-mean()-Y'''\n",
        "\n",
        "\n",
        "# Selecionando as 3 melhores variáveis\n",
        "X_train = X_train[['53 tGravityAcc-min()-X', '390 fBodyAccJerk-bandsEnergy()-1,16', '42 tGravityAcc-mean()-Y']]\n",
        "X_test = X_test[['53 tGravityAcc-min()-X', '390 fBodyAccJerk-bandsEnergy()-1,16', '42 tGravityAcc-mean()-Y']]\n",
        "\n",
        "# Criando o classificador de árvore de decisão\n",
        "clf = DecisionTreeClassifier(random_state=0, min_samples_leaf=20)\n",
        "\n",
        "# Ajustando o classificador aos dados de treinamento\n",
        "clf.fit(X_train, y_train)\n",
        "\n",
        "# Calculando os ccp_alphas\n",
        "path = clf.cost_complexity_pruning_path(X_train, y_train)\n",
        "ccp_alphas = path.ccp_alphas\n",
        "\n",
        "print(ccp_alphas)\n"
      ]
    },
    {
      "cell_type": "markdown",
      "metadata": {
        "id": "8_hLeWFIRghA"
      },
      "source": [
        "### 3. *Grid Search*\n",
        "\n",
        "Vou deixar especificações iniciais mínimas, que visam limitar o tempo de máquina, pois um procedimento desses pode demorar muito tempo dependendo da especificação. Mas conforme você for ficando confortável com o tempo consumido pelo procedimento, pode fazer um algoritmo mais exaustivo, por exemplo, avaliando mais valores de ```ccp_alpha```.\n",
        "\n",
        "- Meça o tempo\n",
        "- Utilize a base de treinamento\n",
        "- Utilize um *cross validation* do tipo *k-fold*, especifique k=10\n",
        "- Você pode ler 1 a cada ```k``` valores para uma melhor varredura utilizando, por exemplo, ```ccp_alpha[::10]```\n",
        "- Não se esqueça de limitar o número de variáveis"
      ]
    },
    {
      "cell_type": "code",
      "execution_count": 23,
      "metadata": {
        "colab": {
          "base_uri": "https://localhost:8080/"
        },
        "id": "4qud_mrgRghA",
        "outputId": "d136361b-560c-4663-8bd4-42f396b8013a"
      },
      "outputs": [
        {
          "output_type": "stream",
          "name": "stdout",
          "text": [
            "Tempo de execução: 2.3321609497070312 segundos\n",
            "Melhores parâmetros:  {'ccp_alpha': 0.005446468743425373}\n",
            "CPU times: user 2.3 s, sys: 705 µs, total: 2.3 s\n",
            "Wall time: 2.33 s\n"
          ]
        }
      ],
      "source": [
        "%%time\n",
        "\n",
        "\n",
        "# Definindo o espaço de busca para o parâmetro ccp_alpha\n",
        "param_grid = {'ccp_alpha': ccp_alphas[::10]}\n",
        "\n",
        "# Criando o objeto KFold\n",
        "kf = KFold(n_splits=10)\n",
        "\n",
        "# Criando o objeto GridSearchCV\n",
        "grid_search = GridSearchCV(DecisionTreeClassifier(random_state=0, min_samples_leaf=20), param_grid, cv=kf)\n",
        "\n",
        "# Medindo o tempo de execução\n",
        "start_time = time.time()\n",
        "\n",
        "# Realizando o Grid Search\n",
        "grid_search.fit(X_train, y_train)\n",
        "\n",
        "# Imprimindo o tempo de execução\n",
        "print(\"Tempo de execução: %s segundos\" % (time.time() - start_time))\n",
        "\n",
        "# Imprimindo os melhores parâmetros encontrados\n",
        "print(\"Melhores parâmetros: \", grid_search.best_params_)\n"
      ]
    },
    {
      "cell_type": "markdown",
      "metadata": {
        "id": "gnaIb4YORghA"
      },
      "source": [
        "### 4. Avaliando a árvore\n",
        "\n",
        "- Obtenha a árvore na melhor configuração treinada em toda a base de treino\n",
        "- Calcule a acurácia dessa árvore na base de testes\n",
        "- Visualize a matriz de confusão"
      ]
    },
    {
      "cell_type": "code",
      "execution_count": 24,
      "metadata": {
        "colab": {
          "base_uri": "https://localhost:8080/",
          "height": 466
        },
        "id": "98rt0XdyRghA",
        "outputId": "87bdc9aa-b7b1-4dcb-c57f-069eb2d1fcd7"
      },
      "outputs": [
        {
          "output_type": "stream",
          "name": "stdout",
          "text": [
            "Acurácia:  0.7207329487614523\n"
          ]
        },
        {
          "output_type": "display_data",
          "data": {
            "text/plain": [
              "<Figure size 640x480 with 2 Axes>"
            ],
            "image/png": "[encoded data removed]"
          },
          "metadata": {}
        }
      ],
      "source": [
        "# Obtendo a árvore na melhor configuração treinada em toda a base de treino\n",
        "best_clf = grid_search.best_estimator_\n",
        "\n",
        "# Calculando a acurácia dessa árvore na base de testes\n",
        "y_pred = best_clf.predict(X_test)\n",
        "accuracy = accuracy_score(y_test, y_pred)\n",
        "\n",
        "print(\"Acurácia: \", accuracy)\n",
        "\n",
        "# Visualizando a matriz de confusão\n",
        "cm = confusion_matrix(y_test, y_pred)\n",
        "ConfusionMatrixDisplay(cm).plot()\n",
        "plt.show()\n"
      ]
    },
    {
      "cell_type": "markdown",
      "metadata": {
        "id": "6lMs0HCfRghA"
      },
      "source": [
        "### 5. Melhorando a árvore\n",
        "\n",
        "A melhor forma de se melhorar um algoritmo é colocando nele novas variáveis que agreguem valor. Podemos usar a força-bruta e ir colocando variáveis aleatoriamente - ou colocar todas e deixar rodando por um bom tempo - ou utilizar uma lógica eficiente e fazer uma seleção de variáveis.\n",
        "\n",
        "- Observe que há classes mais fáceis e mais difíceis de se identificar\n",
        "- Crie uma variável binária para uma das classes de maior erro\n",
        "- Fala uma árvore de classificação bem simples para esta variável:\n",
        "    - utilize ```mean_samples_leaf=20```\n",
        "    - utilize ```max_depth=4```\n",
        "    - coloque todas as variáveis\n",
        "- Observe a importância das variáveis, e selecione as 3 com maior importância\n",
        "- Rode novamente o algoritmo acima com as 3 novas variáveis e avalie a acurácia"
      ]
    },
    {
      "cell_type": "markdown",
      "source": [
        "#### 5.1. Para melhorar a árvore de decisão:\n",
        "\n",
        "Criar uma variável binária para uma das classes de maior erro. Por exemplo, se a classe ‘1’ é a que tem mais erros, você pode criar uma nova variável que é ‘1’ quando a classe é ‘1’ e ‘0’ caso contrário."
      ],
      "metadata": {
        "id": "SJOq992HWS-J"
      }
    },
    {
      "cell_type": "code",
      "execution_count": 33,
      "metadata": {
        "id": "VPKBUFgLRghA"
      },
      "outputs": [],
      "source": [
        "# Criando uma variável binária para a classe 1\n",
        "y_train_bin = (y_train == 1).astype(int) # Se a classe é '1', a nova variável será '1'. Caso contrário, será '0'.\n",
        "y_test_bin = (y_test == 1).astype(int) # Fazendo o mesmo para os dados de teste."
      ]
    },
    {
      "cell_type": "markdown",
      "source": [
        "#### 5.2. Criando uma árvore de decisão simples para esta nova variável."
      ],
      "metadata": {
        "id": "IOe_8CfMXA-A"
      }
    },
    {
      "cell_type": "code",
      "source": [
        "# Criando um classificador de árvore de decisão com profundidade máxima de 4 e pelo menos 20 amostras por folha\n",
        "clf_bin = DecisionTreeClassifier(random_state=0, min_samples_leaf=20, max_depth=4)\n",
        "\n",
        "# Ajustando o classificador à nova variável binária\n",
        "clf_bin.fit(X_train, y_train_bin)"
      ],
      "metadata": {
        "colab": {
          "base_uri": "https://localhost:8080/",
          "height": 74
        },
        "id": "HswgscLSWFiZ",
        "outputId": "0ab595fb-6806-43e4-bd86-fa427ada1f4f"
      },
      "execution_count": 34,
      "outputs": [
        {
          "output_type": "execute_result",
          "data": {
            "text/plain": [
              "DecisionTreeClassifier(max_depth=4, min_samples_leaf=20, random_state=0)"
            ],
            "text/html": [
              "<style>#sk-container-id-3 {color: black;background-color: white;}#sk-container-id-3 pre{padding: 0;}#sk-container-id-3 div.sk-toggleable {background-color: white;}#sk-container-id-3 label.sk-toggleable__label {cursor: pointer;display: block;width: 100%;margin-bottom: 0;padding: 0.3em;box-sizing: border-box;text-align: center;}#sk-container-id-3 label.sk-toggleable__label-arrow:before {content: \"▸\";float: left;margin-right: 0.25em;color: #696969;}#sk-container-id-3 label.sk-toggleable__label-arrow:hover:before {color: black;}#sk-container-id-3 div.sk-estimator:hover label.sk-toggleable__label-arrow:before {color: black;}#sk-container-id-3 div.sk-toggleable__content {max-height: 0;max-width: 0;overflow: hidden;text-align: left;background-color: #f0f8ff;}#sk-container-id-3 div.sk-toggleable__content pre {margin: 0.2em;color: black;border-radius: 0.25em;background-color: #f0f8ff;}#sk-container-id-3 input.sk-toggleable__control:checked~div.sk-toggleable__content {max-height: 200px;max-width: 100%;overflow: auto;}#sk-container-id-3 input.sk-toggleable__control:checked~label.sk-toggleable__label-arrow:before {content: \"▾\";}#sk-container-id-3 div.sk-estimator input.sk-toggleable__control:checked~label.sk-toggleable__label {background-color: #d4ebff;}#sk-container-id-3 div.sk-label input.sk-toggleable__control:checked~label.sk-toggleable__label {background-color: #d4ebff;}#sk-container-id-3 input.sk-hidden--visually {border: 0;clip: rect(1px 1px 1px 1px);clip: rect(1px, 1px, 1px, 1px);height: 1px;margin: -1px;overflow: hidden;padding: 0;position: absolute;width: 1px;}#sk-container-id-3 div.sk-estimator {font-family: monospace;background-color: #f0f8ff;border: 1px dotted black;border-radius: 0.25em;box-sizing: border-box;margin-bottom: 0.5em;}#sk-container-id-3 div.sk-estimator:hover {background-color: #d4ebff;}#sk-container-id-3 div.sk-parallel-item::after {content: \"\";width: 100%;border-bottom: 1px solid gray;flex-grow: 1;}#sk-container-id-3 div.sk-label:hover label.sk-toggleable__label {background-color: #d4ebff;}#sk-container-id-3 div.sk-serial::before {content: \"\";position: absolute;border-left: 1px solid gray;box-sizing: border-box;top: 0;bottom: 0;left: 50%;z-index: 0;}#sk-container-id-3 div.sk-serial {display: flex;flex-direction: column;align-items: center;background-color: white;padding-right: 0.2em;padding-left: 0.2em;position: relative;}#sk-container-id-3 div.sk-item {position: relative;z-index: 1;}#sk-container-id-3 div.sk-parallel {display: flex;align-items: stretch;justify-content: center;background-color: white;position: relative;}#sk-container-id-3 div.sk-item::before, #sk-container-id-3 div.sk-parallel-item::before {content: \"\";position: absolute;border-left: 1px solid gray;box-sizing: border-box;top: 0;bottom: 0;left: 50%;z-index: -1;}#sk-container-id-3 div.sk-parallel-item {display: flex;flex-direction: column;z-index: 1;position: relative;background-color: white;}#sk-container-id-3 div.sk-parallel-item:first-child::after {align-self: flex-end;width: 50%;}#sk-container-id-3 div.sk-parallel-item:last-child::after {align-self: flex-start;width: 50%;}#sk-container-id-3 div.sk-parallel-item:only-child::after {width: 0;}#sk-container-id-3 div.sk-dashed-wrapped {border: 1px dashed gray;margin: 0 0.4em 0.5em 0.4em;box-sizing: border-box;padding-bottom: 0.4em;background-color: white;}#sk-container-id-3 div.sk-label label {font-family: monospace;font-weight: bold;display: inline-block;line-height: 1.2em;}#sk-container-id-3 div.sk-label-container {text-align: center;}#sk-container-id-3 div.sk-container {/* jupyter's `normalize.less` sets `[hidden] { display: none; }` but bootstrap.min.css set `[hidden] { display: none !important; }` so we also need the `!important` here to be able to override the default hidden behavior on the sphinx rendered scikit-learn.org. See: https://github.com/scikit-learn/scikit-learn/issues/21755 */display: inline-block !important;position: relative;}#sk-container-id-3 div.sk-text-repr-fallback {display: none;}</style><div id=\"sk-container-id-3\" class=\"sk-top-container\"><div class=\"sk-text-repr-fallback\"><pre>DecisionTreeClassifier(max_depth=4, min_samples_leaf=20, random_state=0)</pre><b>In a Jupyter environment, please rerun this cell to show the HTML representation or trust the notebook. <br />On GitHub, the HTML representation is unable to render, please try loading this page with nbviewer.org.</b></div><div class=\"sk-container\" hidden><div class=\"sk-item\"><div class=\"sk-estimator sk-toggleable\"><input class=\"sk-toggleable__control sk-hidden--visually\" id=\"sk-estimator-id-3\" type=\"checkbox\" checked><label for=\"sk-estimator-id-3\" class=\"sk-toggleable__label sk-toggleable__label-arrow\">DecisionTreeClassifier</label><div class=\"sk-toggleable__content\"><pre>DecisionTreeClassifier(max_depth=4, min_samples_leaf=20, random_state=0)</pre></div></div></div></div></div>"
            ]
          },
          "metadata": {},
          "execution_count": 34
        }
      ]
    },
    {
      "cell_type": "markdown",
      "source": [
        "#### Observar a importância das variáveis e selecionar as 3 com maior importância."
      ],
      "metadata": {
        "id": "a4RLOz0IXHjA"
      }
    },
    {
      "cell_type": "code",
      "source": [
        "# Obtendo os índices das variáveis ordenadas pela importância\n",
        "indices = np.argsort(importances)[::-1]\n",
        "\n",
        "# Obtendo os nomes das variáveis\n",
        "features = X_train.columns\n",
        "\n",
        "print(\"Feature ranking:\")\n",
        "\n",
        "# Imprimindo as 3 variáveis mais importantes\n",
        "for i in range(3):\n",
        "    print(f\"{i+1}. feature {features[indices[i]]} ({importances[indices[i]]})\")\n"
      ],
      "metadata": {
        "colab": {
          "base_uri": "https://localhost:8080/"
        },
        "id": "iEZ9ShrjWJl5",
        "outputId": "4a15ebcb-58cd-426a-c15e-746c915973a2"
      },
      "execution_count": 35,
      "outputs": [
        {
          "output_type": "stream",
          "name": "stdout",
          "text": [
            "Feature ranking:\n",
            "1. feature 390 fBodyAccJerk-bandsEnergy()-1,16 (0.6337347230099645)\n",
            "2. feature 53 tGravityAcc-min()-X (0.350383966664642)\n",
            "3. feature 42 tGravityAcc-mean()-Y (0.015881310325393416)\n"
          ]
        }
      ]
    },
    {
      "cell_type": "markdown",
      "source": [
        "#### 5.4. Rode novamente o algoritmo acima com as 3 novas variáveis e avalie a acurácia."
      ],
      "metadata": {
        "id": "hPeUuA5SXSIf"
      }
    },
    {
      "cell_type": "code",
      "source": [
        "# Selecionando as 3 melhores variáveis\n",
        "X_train_new = X_train[features[indices[:3]]]\n",
        "X_test_new = X_test[features[indices[:3]]]\n",
        "\n",
        "# Criando o classificador de árvore de decisão\n",
        "clf_new = DecisionTreeClassifier(random_state=0, min_samples_leaf=20)\n",
        "\n",
        "# Ajustando o classificador aos dados de treinamento\n",
        "clf_new.fit(X_train_new, y_train)\n",
        "\n",
        "# Calculando a acurácia dessa árvore na base de testes\n",
        "y_pred_new = clf_new.predict(X_test_new)\n",
        "accuracy_new = accuracy_score(y_test, y_pred_new)\n",
        "\n",
        "print(\"Nova acurácia: \", accuracy_new)\n"
      ],
      "metadata": {
        "colab": {
          "base_uri": "https://localhost:8080/"
        },
        "id": "MTtfBGR2WLnx",
        "outputId": "6c7876af-b6c1-4f01-8e5f-2ad0729edeab"
      },
      "execution_count": 36,
      "outputs": [
        {
          "output_type": "stream",
          "name": "stdout",
          "text": [
            "Nova acurácia:  0.673905666779776\n"
          ]
        }
      ]
    },
    {
      "cell_type": "markdown",
      "source": [
        "> A acurácia inicial do modelo era de 72,07%, indicando que o modelo estava prevendo corretamente o resultado cerca de 72,07% das vezes. Após a adição de novas variáveis e o re-treinamento, a acurácia diminuiu ligeiramente para 67,39%, o que significa que o modelo agora está prevendo corretamente o resultado cerca de 67,39% das vezes. Embora a adição de mais informações ao modelo tenha resultado em uma diminuição da acurácia, isso pode acontecer quando as variáveis adicionadas não contribuem positivamente para a capacidade preditiva do modelo ou quando introduzem ruído no modelo."
      ],
      "metadata": {
        "id": "mWDXSWFWX98-"
      }
    }
  ],
  "metadata": {
    "kernelspec": {
      "display_name": "Python 3",
      "language": "python",
      "name": "python3"
    },
    "language_info": {
      "codemirror_mode": {
        "name": "ipython",
        "version": 3
      },
      "file_extension": ".py",
      "mimetype": "text/x-python",
      "name": "python",
      "nbconvert_exporter": "python",
      "pygments_lexer": "ipython3",
      "version": "3.8.5"
    },
    "toc": {
      "base_numbering": 1,
      "nav_menu": {},
      "number_sections": false,
      "sideBar": true,
      "skip_h1_title": true,
      "title_cell": "Índice",
      "title_sidebar": "Conteúdo",
      "toc_cell": false,
      "toc_position": {},
      "toc_section_display": true,
      "toc_window_display": true
    },
    "varInspector": {
      "cols": {
        "lenName": 16,
        "lenType": 16,
        "lenVar": 40
      },
      "kernels_config": {
        "python": {
          "delete_cmd_postfix": "",
          "delete_cmd_prefix": "del ",
          "library": "var_list.py",
          "varRefreshCmd": "print(var_dic_list())"
        },
        "r": {
          "delete_cmd_postfix": ") ",
          "delete_cmd_prefix": "rm(",
          "library": "var_list.r",
          "varRefreshCmd": "cat(var_dic_list()) "
        }
      },
      "types_to_exclude": [
        "module",
        "function",
        "builtin_function_or_method",
        "instance",
        "_Feature"
      ],
      "window_display": false
    },
    "colab": {
      "provenance": []
    }
  },
  "nbformat": 4,
  "nbformat_minor": 0
}